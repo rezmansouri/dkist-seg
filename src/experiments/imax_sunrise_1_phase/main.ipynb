{
 "cells": [
  {
   "cell_type": "code",
   "execution_count": 1,
   "metadata": {},
   "outputs": [],
   "source": [
    "import os\n",
    "import sys\n",
    "import json\n",
    "import utils\n",
    "import torch\n",
    "import train\n",
    "import shutil\n",
    "import losses\n",
    "import models\n",
    "import numpy as np\n",
    "from datetime import datetime"
   ]
  },
  {
   "cell_type": "code",
   "execution_count": 2,
   "metadata": {},
   "outputs": [],
   "source": [
    "device = torch.device('cuda' if torch.cuda.is_available() else 'cpu')"
   ]
  },
  {
   "cell_type": "code",
   "execution_count": 3,
   "metadata": {},
   "outputs": [],
   "source": [
    "cfg_path = 'configs/unet_focal.json'"
   ]
  },
  {
   "cell_type": "code",
   "execution_count": 4,
   "metadata": {},
   "outputs": [],
   "source": [
    "with open(cfg_path, 'r') as file:\n",
    "        cfg = json.load(file)\n",
    "\n",
    "TRAIN_DIR = cfg['train_dir']\n",
    "VAL_DIR = cfg['val_dir']\n",
    "TRAIN_SIZE = cfg['train_size']\n",
    "BATCH_SIZE = cfg['batch_size']\n",
    "VAL_SIZE = cfg['val_size']\n",
    "LOSS_STR = cfg['loss']\n",
    "N_EPOCHS = cfg['n_epochs']\n",
    "MODEL_STR = cfg['model']\n",
    "OUTPUT_PATH = cfg['output_path']\n",
    "\n",
    "if not os.path.exists(OUTPUT_PATH):\n",
    "    raise ValueError('output path does not exist')"
   ]
  },
  {
   "cell_type": "code",
   "execution_count": 5,
   "metadata": {},
   "outputs": [
    {
     "name": "stdout",
     "output_type": "stream",
     "text": [
      "Reading images...\n",
      "Done!\n",
      "Reading images...\n",
      "Done!\n"
     ]
    }
   ],
   "source": [
    "train_files = []\n",
    "train_masks = []\n",
    "for f in os.listdir(TRAIN_DIR):\n",
    "    file = np.load(os.path.join(TRAIN_DIR, f))\n",
    "    train_files.append(file)\n",
    "    train_masks.append(file['cmask_map'])\n",
    "train_dataset = utils.segDataset(train_files, TRAIN_SIZE)\n",
    "\n",
    "val_files = []\n",
    "for f in os.listdir(VAL_DIR):\n",
    "    file = np.load(os.path.join(VAL_DIR, f))\n",
    "    val_files.append(file)\n",
    "val_dataset = utils.segDataset_val(val_files, VAL_SIZE)\n",
    "val_loader = torch.utils.data.DataLoader(\n",
    "    val_dataset, batch_size=BATCH_SIZE, shuffle=False, num_workers=1)"
   ]
  },
  {
   "cell_type": "code",
   "execution_count": 9,
   "metadata": {},
   "outputs": [],
   "source": [
    "train_loader = torch.utils.data.DataLoader(\n",
    "    train_dataset, batch_size=BATCH_SIZE, shuffle=True)\n",
    "val_loader = torch.utils.data.DataLoader(\n",
    "    val_dataset, batch_size=BATCH_SIZE, shuffle=False)"
   ]
  },
  {
   "cell_type": "code",
   "execution_count": 10,
   "metadata": {},
   "outputs": [
    {
     "data": {
      "text/plain": [
       "'results/unet_focal_2024-05-23 15:36:31/unet_focal.json'"
      ]
     },
     "execution_count": 10,
     "metadata": {},
     "output_type": "execute_result"
    }
   ],
   "source": [
    "if MODEL_STR == 'unet':\n",
    "    model = models.UNet()\n",
    "else:\n",
    "    raise ValueError('wrong model in config')\n",
    "\n",
    "loss_weights = utils.get_weights(train_masks).to(device)\n",
    "\n",
    "if LOSS_STR == 'focal':\n",
    "    criterion = losses.FocalLoss(alpha=loss_weights).to(device)\n",
    "elif LOSS_STR == 'lovazs':\n",
    "    criterion = losses.Lovazs()\n",
    "else:\n",
    "    raise ValueError('wrong loss in config')\n",
    "\n",
    "optimizer = torch.optim.Adam(params=model.parameters(), lr=1e-3)\n",
    "\n",
    "experiment_dir_name = MODEL_STR + '_' + LOSS_STR + \\\n",
    "    '_' + datetime.now().strftime('%Y-%m-%d %H:%M:%S')\n",
    "OUTPUT_PATH = os.path.join(\n",
    "    OUTPUT_PATH, experiment_dir_name)\n",
    "\n",
    "os.mkdir(OUTPUT_PATH)\n",
    "shutil.copy2(cfg_path, OUTPUT_PATH)"
   ]
  },
  {
   "cell_type": "code",
   "execution_count": 11,
   "metadata": {},
   "outputs": [
    {
     "name": "stdout",
     "output_type": "stream",
     "text": [
      "----------------------------------------------------------------\n",
      "        Layer (type)               Output Shape         Param #\n",
      "================================================================\n",
      "            Conv2d-1         [-1, 64, 128, 128]             640\n",
      "       BatchNorm2d-2         [-1, 64, 128, 128]             128\n",
      "              ReLU-3         [-1, 64, 128, 128]               0\n",
      "            Conv2d-4         [-1, 64, 128, 128]          36,928\n",
      "       BatchNorm2d-5         [-1, 64, 128, 128]             128\n",
      "              ReLU-6         [-1, 64, 128, 128]               0\n",
      "        DoubleConv-7         [-1, 64, 128, 128]               0\n",
      "         MaxPool2d-8           [-1, 64, 64, 64]               0\n",
      "            Conv2d-9          [-1, 128, 64, 64]          73,856\n",
      "      BatchNorm2d-10          [-1, 128, 64, 64]             256\n",
      "             ReLU-11          [-1, 128, 64, 64]               0\n",
      "           Conv2d-12          [-1, 128, 64, 64]         147,584\n",
      "      BatchNorm2d-13          [-1, 128, 64, 64]             256\n",
      "             ReLU-14          [-1, 128, 64, 64]               0\n",
      "       DoubleConv-15          [-1, 128, 64, 64]               0\n",
      "             Down-16          [-1, 128, 64, 64]               0\n",
      "        MaxPool2d-17          [-1, 128, 32, 32]               0\n",
      "           Conv2d-18          [-1, 256, 32, 32]         295,168\n",
      "      BatchNorm2d-19          [-1, 256, 32, 32]             512\n",
      "             ReLU-20          [-1, 256, 32, 32]               0\n",
      "           Conv2d-21          [-1, 256, 32, 32]         590,080\n",
      "      BatchNorm2d-22          [-1, 256, 32, 32]             512\n",
      "             ReLU-23          [-1, 256, 32, 32]               0\n",
      "       DoubleConv-24          [-1, 256, 32, 32]               0\n",
      "             Down-25          [-1, 256, 32, 32]               0\n",
      "        MaxPool2d-26          [-1, 256, 16, 16]               0\n",
      "           Conv2d-27          [-1, 512, 16, 16]       1,180,160\n",
      "      BatchNorm2d-28          [-1, 512, 16, 16]           1,024\n",
      "             ReLU-29          [-1, 512, 16, 16]               0\n",
      "           Conv2d-30          [-1, 512, 16, 16]       2,359,808\n",
      "      BatchNorm2d-31          [-1, 512, 16, 16]           1,024\n",
      "             ReLU-32          [-1, 512, 16, 16]               0\n",
      "       DoubleConv-33          [-1, 512, 16, 16]               0\n",
      "             Down-34          [-1, 512, 16, 16]               0\n",
      "        MaxPool2d-35            [-1, 512, 8, 8]               0\n",
      "           Conv2d-36           [-1, 1024, 8, 8]       4,719,616\n",
      "      BatchNorm2d-37           [-1, 1024, 8, 8]           2,048\n",
      "             ReLU-38           [-1, 1024, 8, 8]               0\n",
      "           Conv2d-39           [-1, 1024, 8, 8]       9,438,208\n",
      "      BatchNorm2d-40           [-1, 1024, 8, 8]           2,048\n",
      "             ReLU-41           [-1, 1024, 8, 8]               0\n",
      "       DoubleConv-42           [-1, 1024, 8, 8]               0\n",
      "             Down-43           [-1, 1024, 8, 8]               0\n",
      "  ConvTranspose2d-44          [-1, 512, 16, 16]       2,097,664\n",
      "           Conv2d-45          [-1, 512, 16, 16]       4,719,104\n",
      "      BatchNorm2d-46          [-1, 512, 16, 16]           1,024\n",
      "             ReLU-47          [-1, 512, 16, 16]               0\n",
      "           Conv2d-48          [-1, 512, 16, 16]       2,359,808\n",
      "      BatchNorm2d-49          [-1, 512, 16, 16]           1,024\n",
      "             ReLU-50          [-1, 512, 16, 16]               0\n",
      "       DoubleConv-51          [-1, 512, 16, 16]               0\n",
      "               Up-52          [-1, 512, 16, 16]               0\n",
      "  ConvTranspose2d-53          [-1, 256, 32, 32]         524,544\n",
      "           Conv2d-54          [-1, 256, 32, 32]       1,179,904\n",
      "      BatchNorm2d-55          [-1, 256, 32, 32]             512\n",
      "             ReLU-56          [-1, 256, 32, 32]               0\n",
      "           Conv2d-57          [-1, 256, 32, 32]         590,080\n",
      "      BatchNorm2d-58          [-1, 256, 32, 32]             512\n",
      "             ReLU-59          [-1, 256, 32, 32]               0\n",
      "       DoubleConv-60          [-1, 256, 32, 32]               0\n",
      "               Up-61          [-1, 256, 32, 32]               0\n",
      "  ConvTranspose2d-62          [-1, 128, 64, 64]         131,200\n",
      "           Conv2d-63          [-1, 128, 64, 64]         295,040\n",
      "      BatchNorm2d-64          [-1, 128, 64, 64]             256\n",
      "             ReLU-65          [-1, 128, 64, 64]               0\n",
      "           Conv2d-66          [-1, 128, 64, 64]         147,584\n",
      "      BatchNorm2d-67          [-1, 128, 64, 64]             256\n",
      "             ReLU-68          [-1, 128, 64, 64]               0\n",
      "       DoubleConv-69          [-1, 128, 64, 64]               0\n",
      "               Up-70          [-1, 128, 64, 64]               0\n",
      "  ConvTranspose2d-71         [-1, 64, 128, 128]          32,832\n",
      "           Conv2d-72         [-1, 64, 128, 128]          73,792\n",
      "      BatchNorm2d-73         [-1, 64, 128, 128]             128\n",
      "             ReLU-74         [-1, 64, 128, 128]               0\n",
      "           Conv2d-75         [-1, 64, 128, 128]          36,928\n",
      "      BatchNorm2d-76         [-1, 64, 128, 128]             128\n",
      "             ReLU-77         [-1, 64, 128, 128]               0\n",
      "       DoubleConv-78         [-1, 64, 128, 128]               0\n",
      "               Up-79         [-1, 64, 128, 128]               0\n",
      "           Conv2d-80          [-1, 5, 128, 128]             325\n",
      "          OutConv-81          [-1, 5, 128, 128]               0\n",
      "================================================================\n",
      "Total params: 31,042,629\n",
      "Trainable params: 31,042,629\n",
      "Non-trainable params: 0\n",
      "----------------------------------------------------------------\n",
      "Input size (MB): 0.06\n",
      "Forward/backward pass size (MB): 256.00\n",
      "Params size (MB): 118.42\n",
      "Estimated Total Size (MB): 374.48\n",
      "----------------------------------------------------------------\n",
      "[Epoch 0/50] [Batch 0/1] [Loss: 0.019437 (0.019437)]\n",
      " epoch 0 - loss : 0.01944 - acc : 0.33 - val loss : 0.02993 - val acc : 0.33\n",
      "\n",
      " tensor(inf) 0.029934864\n",
      "Best_model\n",
      "[Epoch 1/50] [Batch 0/1] [Loss: 0.013687 (0.013687)]\n",
      " epoch 1 - loss : 0.01369 - acc : 0.46 - val loss : 0.02122 - val acc : 0.38\n",
      "\n",
      " 0.029934864 0.02121809\n",
      "Best_model\n",
      "[Epoch 2/50] [Batch 0/1] [Loss: 0.011524 (0.011524)]\n",
      " epoch 2 - loss : 0.01152 - acc : 0.42 - val loss : 0.01973 - val acc : 0.15\n",
      "\n",
      " 0.02121809 0.019726546\n",
      "Best_model\n",
      "[Epoch 3/50] [Batch 0/1] [Loss: 0.008021 (0.008021)]\n",
      " epoch 3 - loss : 0.00802 - acc : 0.46 - val loss : 0.01666 - val acc : 0.00\n",
      "\n",
      " 0.019726546 0.01666197\n",
      "Best_model\n",
      "[Epoch 4/50] [Batch 0/1] [Loss: 0.008720 (0.008720)]\n",
      " epoch 4 - loss : 0.00872 - acc : 0.46 - val loss : 0.01724 - val acc : 0.00\n",
      "\n",
      " 0.01666197 0.017237647\n",
      "[Epoch 5/50] [Batch 0/1] [Loss: 0.008598 (0.008598)]\n",
      " epoch 5 - loss : 0.00860 - acc : 0.48 - val loss : 0.01591 - val acc : 0.01\n",
      "\n",
      " 0.01666197 0.015909096\n",
      "Best_model\n",
      "[Epoch 6/50] [Batch 0/1] [Loss: 0.006747 (0.006747)]\n",
      " epoch 6 - loss : 0.00675 - acc : 0.49 - val loss : 0.01508 - val acc : 0.01\n",
      "\n",
      " 0.015909096 0.0150754405\n",
      "Best_model\n"
     ]
    },
    {
     "ename": "KeyboardInterrupt",
     "evalue": "",
     "output_type": "error",
     "traceback": [
      "\u001b[0;31m---------------------------------------------------------------------------\u001b[0m",
      "\u001b[0;31mKeyboardInterrupt\u001b[0m                         Traceback (most recent call last)",
      "Cell \u001b[0;32mIn[11], line 1\u001b[0m\n\u001b[0;32m----> 1\u001b[0m \u001b[43mtrain\u001b[49m\u001b[38;5;241;43m.\u001b[39;49m\u001b[43mrun\u001b[49m\u001b[43m(\u001b[49m\u001b[43mmodel\u001b[49m\u001b[38;5;241;43m=\u001b[39;49m\u001b[43mmodel\u001b[49m\u001b[43m,\u001b[49m\u001b[43m \u001b[49m\u001b[43mtrain_loader\u001b[49m\u001b[38;5;241;43m=\u001b[39;49m\u001b[43mtrain_loader\u001b[49m\u001b[43m,\u001b[49m\u001b[43m \u001b[49m\u001b[43mval_loader\u001b[49m\u001b[38;5;241;43m=\u001b[39;49m\u001b[43mval_loader\u001b[49m\u001b[43m,\u001b[49m\u001b[43m \u001b[49m\u001b[43mn_epochs\u001b[49m\u001b[38;5;241;43m=\u001b[39;49m\u001b[43mN_EPOCHS\u001b[49m\u001b[43m,\u001b[49m\u001b[43m \u001b[49m\u001b[43mcriterion\u001b[49m\u001b[38;5;241;43m=\u001b[39;49m\u001b[43mcriterion\u001b[49m\u001b[43m,\u001b[49m\n\u001b[1;32m      2\u001b[0m \u001b[43m            \u001b[49m\u001b[43moptimizer\u001b[49m\u001b[38;5;241;43m=\u001b[39;49m\u001b[43moptimizer\u001b[49m\u001b[43m,\u001b[49m\u001b[43m \u001b[49m\u001b[43mdevice\u001b[49m\u001b[38;5;241;43m=\u001b[39;49m\u001b[43mdevice\u001b[49m\u001b[43m,\u001b[49m\u001b[43m \u001b[49m\u001b[43moutput_path\u001b[49m\u001b[38;5;241;43m=\u001b[39;49m\u001b[43mOUTPUT_PATH\u001b[49m\u001b[43m,\u001b[49m\u001b[43m \u001b[49m\u001b[43msave_model\u001b[49m\u001b[38;5;241;43m=\u001b[39;49m\u001b[38;5;28;43;01mFalse\u001b[39;49;00m\u001b[43m,\u001b[49m\u001b[43m \u001b[49m\u001b[43mmodel_summary\u001b[49m\u001b[38;5;241;43m=\u001b[39;49m\u001b[38;5;28;43;01mTrue\u001b[39;49;00m\u001b[43m)\u001b[49m\n",
      "File \u001b[0;32m~/Career/DMLab/DKIST/dkist-seg/src/experiments/imax_sunrise/train.py:37\u001b[0m, in \u001b[0;36mrun\u001b[0;34m(model, train_loader, val_loader, n_epochs, criterion, optimizer, device, output_path, save_model, model_summary)\u001b[0m\n\u001b[1;32m     34\u001b[0m loss \u001b[38;5;241m=\u001b[39m criterion(pred_mask, y\u001b[38;5;241m.\u001b[39mto(device))\n\u001b[1;32m     36\u001b[0m optimizer\u001b[38;5;241m.\u001b[39mzero_grad()\n\u001b[0;32m---> 37\u001b[0m \u001b[43mloss\u001b[49m\u001b[38;5;241;43m.\u001b[39;49m\u001b[43mbackward\u001b[49m\u001b[43m(\u001b[49m\u001b[43m)\u001b[49m\n\u001b[1;32m     38\u001b[0m optimizer\u001b[38;5;241m.\u001b[39mstep()\n\u001b[1;32m     39\u001b[0m loss_list\u001b[38;5;241m.\u001b[39mappend(loss\u001b[38;5;241m.\u001b[39mcpu()\u001b[38;5;241m.\u001b[39mdetach()\u001b[38;5;241m.\u001b[39mnumpy())\n",
      "File \u001b[0;32m~/Library/Python/3.9/lib/python/site-packages/torch/_tensor.py:525\u001b[0m, in \u001b[0;36mTensor.backward\u001b[0;34m(self, gradient, retain_graph, create_graph, inputs)\u001b[0m\n\u001b[1;32m    515\u001b[0m \u001b[38;5;28;01mif\u001b[39;00m has_torch_function_unary(\u001b[38;5;28mself\u001b[39m):\n\u001b[1;32m    516\u001b[0m     \u001b[38;5;28;01mreturn\u001b[39;00m handle_torch_function(\n\u001b[1;32m    517\u001b[0m         Tensor\u001b[38;5;241m.\u001b[39mbackward,\n\u001b[1;32m    518\u001b[0m         (\u001b[38;5;28mself\u001b[39m,),\n\u001b[0;32m   (...)\u001b[0m\n\u001b[1;32m    523\u001b[0m         inputs\u001b[38;5;241m=\u001b[39minputs,\n\u001b[1;32m    524\u001b[0m     )\n\u001b[0;32m--> 525\u001b[0m \u001b[43mtorch\u001b[49m\u001b[38;5;241;43m.\u001b[39;49m\u001b[43mautograd\u001b[49m\u001b[38;5;241;43m.\u001b[39;49m\u001b[43mbackward\u001b[49m\u001b[43m(\u001b[49m\n\u001b[1;32m    526\u001b[0m \u001b[43m    \u001b[49m\u001b[38;5;28;43mself\u001b[39;49m\u001b[43m,\u001b[49m\u001b[43m \u001b[49m\u001b[43mgradient\u001b[49m\u001b[43m,\u001b[49m\u001b[43m \u001b[49m\u001b[43mretain_graph\u001b[49m\u001b[43m,\u001b[49m\u001b[43m \u001b[49m\u001b[43mcreate_graph\u001b[49m\u001b[43m,\u001b[49m\u001b[43m \u001b[49m\u001b[43minputs\u001b[49m\u001b[38;5;241;43m=\u001b[39;49m\u001b[43minputs\u001b[49m\n\u001b[1;32m    527\u001b[0m \u001b[43m\u001b[49m\u001b[43m)\u001b[49m\n",
      "File \u001b[0;32m~/Library/Python/3.9/lib/python/site-packages/torch/autograd/__init__.py:267\u001b[0m, in \u001b[0;36mbackward\u001b[0;34m(tensors, grad_tensors, retain_graph, create_graph, grad_variables, inputs)\u001b[0m\n\u001b[1;32m    262\u001b[0m     retain_graph \u001b[38;5;241m=\u001b[39m create_graph\n\u001b[1;32m    264\u001b[0m \u001b[38;5;66;03m# The reason we repeat the same comment below is that\u001b[39;00m\n\u001b[1;32m    265\u001b[0m \u001b[38;5;66;03m# some Python versions print out the first line of a multi-line function\u001b[39;00m\n\u001b[1;32m    266\u001b[0m \u001b[38;5;66;03m# calls in the traceback and some print out the last line\u001b[39;00m\n\u001b[0;32m--> 267\u001b[0m \u001b[43m_engine_run_backward\u001b[49m\u001b[43m(\u001b[49m\n\u001b[1;32m    268\u001b[0m \u001b[43m    \u001b[49m\u001b[43mtensors\u001b[49m\u001b[43m,\u001b[49m\n\u001b[1;32m    269\u001b[0m \u001b[43m    \u001b[49m\u001b[43mgrad_tensors_\u001b[49m\u001b[43m,\u001b[49m\n\u001b[1;32m    270\u001b[0m \u001b[43m    \u001b[49m\u001b[43mretain_graph\u001b[49m\u001b[43m,\u001b[49m\n\u001b[1;32m    271\u001b[0m \u001b[43m    \u001b[49m\u001b[43mcreate_graph\u001b[49m\u001b[43m,\u001b[49m\n\u001b[1;32m    272\u001b[0m \u001b[43m    \u001b[49m\u001b[43minputs\u001b[49m\u001b[43m,\u001b[49m\n\u001b[1;32m    273\u001b[0m \u001b[43m    \u001b[49m\u001b[43mallow_unreachable\u001b[49m\u001b[38;5;241;43m=\u001b[39;49m\u001b[38;5;28;43;01mTrue\u001b[39;49;00m\u001b[43m,\u001b[49m\n\u001b[1;32m    274\u001b[0m \u001b[43m    \u001b[49m\u001b[43maccumulate_grad\u001b[49m\u001b[38;5;241;43m=\u001b[39;49m\u001b[38;5;28;43;01mTrue\u001b[39;49;00m\u001b[43m,\u001b[49m\n\u001b[1;32m    275\u001b[0m \u001b[43m\u001b[49m\u001b[43m)\u001b[49m\n",
      "File \u001b[0;32m~/Library/Python/3.9/lib/python/site-packages/torch/autograd/graph.py:744\u001b[0m, in \u001b[0;36m_engine_run_backward\u001b[0;34m(t_outputs, *args, **kwargs)\u001b[0m\n\u001b[1;32m    742\u001b[0m     unregister_hooks \u001b[38;5;241m=\u001b[39m _register_logging_hooks_on_whole_graph(t_outputs)\n\u001b[1;32m    743\u001b[0m \u001b[38;5;28;01mtry\u001b[39;00m:\n\u001b[0;32m--> 744\u001b[0m     \u001b[38;5;28;01mreturn\u001b[39;00m \u001b[43mVariable\u001b[49m\u001b[38;5;241;43m.\u001b[39;49m\u001b[43m_execution_engine\u001b[49m\u001b[38;5;241;43m.\u001b[39;49m\u001b[43mrun_backward\u001b[49m\u001b[43m(\u001b[49m\u001b[43m  \u001b[49m\u001b[38;5;66;43;03m# Calls into the C++ engine to run the backward pass\u001b[39;49;00m\n\u001b[1;32m    745\u001b[0m \u001b[43m        \u001b[49m\u001b[43mt_outputs\u001b[49m\u001b[43m,\u001b[49m\u001b[43m \u001b[49m\u001b[38;5;241;43m*\u001b[39;49m\u001b[43margs\u001b[49m\u001b[43m,\u001b[49m\u001b[43m \u001b[49m\u001b[38;5;241;43m*\u001b[39;49m\u001b[38;5;241;43m*\u001b[39;49m\u001b[43mkwargs\u001b[49m\n\u001b[1;32m    746\u001b[0m \u001b[43m    \u001b[49m\u001b[43m)\u001b[49m  \u001b[38;5;66;03m# Calls into the C++ engine to run the backward pass\u001b[39;00m\n\u001b[1;32m    747\u001b[0m \u001b[38;5;28;01mfinally\u001b[39;00m:\n\u001b[1;32m    748\u001b[0m     \u001b[38;5;28;01mif\u001b[39;00m attach_logging_hooks:\n",
      "\u001b[0;31mKeyboardInterrupt\u001b[0m: "
     ]
    }
   ],
   "source": [
    "train.run(model=model, train_loader=train_loader, val_loader=val_loader, n_epochs=N_EPOCHS, criterion=criterion,\n",
    "            optimizer=optimizer, device=device, output_path=OUTPUT_PATH, save_model=False, model_summary=True)\n"
   ]
  },
  {
   "cell_type": "code",
   "execution_count": null,
   "metadata": {},
   "outputs": [],
   "source": []
  }
 ],
 "metadata": {
  "kernelspec": {
   "display_name": "Python 3",
   "language": "python",
   "name": "python3"
  },
  "language_info": {
   "codemirror_mode": {
    "name": "ipython",
    "version": 3
   },
   "file_extension": ".py",
   "mimetype": "text/x-python",
   "name": "python",
   "nbconvert_exporter": "python",
   "pygments_lexer": "ipython3",
   "version": "3.9.6"
  }
 },
 "nbformat": 4,
 "nbformat_minor": 2
}
